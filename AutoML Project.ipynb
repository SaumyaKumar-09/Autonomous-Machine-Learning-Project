{
 "cells": [
  {
   "cell_type": "markdown",
   "metadata": {},
   "source": [
    "### Importing Libraries"
   ]
  },
  {
   "cell_type": "code",
   "execution_count": 29,
   "metadata": {},
   "outputs": [
    {
     "data": {
      "application/vnd.jupyter.widget-view+json": {
       "model_id": "fcc59a84c8564ed19c4e239e8555addc",
       "version_major": 2,
       "version_minor": 0
      },
      "text/plain": [
       "Optimization Progress:   0%|          | 0/120 [00:00<?, ?pipeline/s]"
      ]
     },
     "metadata": {},
     "output_type": "display_data"
    },
    {
     "name": "stdout",
     "output_type": "stream",
     "text": [
      "\n",
      "Generation 1 - Current best internal CV score: 0.975\n",
      "\n",
      "Generation 2 - Current best internal CV score: 0.975\n",
      "\n",
      "Generation 3 - Current best internal CV score: 0.975\n",
      "\n",
      "Generation 4 - Current best internal CV score: 0.9833333333333334\n",
      "\n",
      "Generation 5 - Current best internal CV score: 0.9833333333333334\n",
      "\n",
      "Best pipeline: GaussianNB(MultinomialNB(input_matrix, alpha=10.0, fit_prior=False))\n",
      "Model Accuracy: 1.0\n"
     ]
    }
   ],
   "source": [
    "import tpot\n",
    "from tpot import TPOTClassifier\n",
    "from sklearn.datasets import load_iris\n",
    "from sklearn.model_selection import train_test_split\n",
    "import joblib\n",
    "import pandas as pd\n",
    "\n",
    "# Load the iris dataset\n",
    "iris = load_iris()\n",
    "X_train, X_test, y_train, y_test = train_test_split(iris.data, iris.target, test_size=0.2, random_state=42)\n",
    "\n",
    "# Save the dataset to CSV files for validation\n",
    "train_data = pd.DataFrame(X_train, columns=iris.feature_names)\n",
    "train_data['target'] = y_train\n",
    "test_data = pd.DataFrame(X_test, columns=iris.feature_names)\n",
    "test_data['target'] = y_test\n",
    "\n",
    "train_data.to_csv('iris_train.csv', index=False)\n",
    "test_data.to_csv('iris_test.csv', index=False)\n",
    "\n",
    "# Perform AutoML using TPOT\n",
    "tpot_classifier = TPOTClassifier(verbosity=2, generations=5, population_size=20, random_state=42)\n",
    "tpot_classifier.fit(X_train, y_train)\n",
    "\n",
    "# Save the best pipeline to a Python script\n",
    "pipeline_filename = 'best_pipeline.py'\n",
    "tpot_classifier.export(pipeline_filename)\n",
    "\n",
    "# Fix the generated pipeline to use a comma separator\n",
    "with open(pipeline_filename, 'r') as file:\n",
    "    pipeline_code = file.read()\n",
    "\n",
    "# Replace 'COLUMN_SEPARATOR' with ',' to make it executable\n",
    "pipeline_code = pipeline_code.replace(\"COLUMN_SEPARATOR\", \",\")\n",
    "\n",
    "# Write the corrected code back to the file\n",
    "with open(pipeline_filename, 'w') as file:\n",
    "    file.write(pipeline_code)\n",
    "\n",
    "# Save the trained model using joblib\n",
    "joblib.dump(tpot_classifier.fitted_pipeline_, 'best_model.joblib')\n",
    "\n",
    "# Evaluate the model and print accuracy\n",
    "accuracy = tpot_classifier.score(X_test, y_test)\n",
    "print(f\"Model Accuracy: {accuracy}\")\n"
   ]
  },
  {
   "cell_type": "code",
   "execution_count": null,
   "metadata": {},
   "outputs": [],
   "source": []
  }
 ],
 "metadata": {
  "kernelspec": {
   "display_name": "Python 3",
   "language": "python",
   "name": "python3"
  },
  "language_info": {
   "codemirror_mode": {
    "name": "ipython",
    "version": 3
   },
   "file_extension": ".py",
   "mimetype": "text/x-python",
   "name": "python",
   "nbconvert_exporter": "python",
   "pygments_lexer": "ipython3",
   "version": "3.10.6"
  }
 },
 "nbformat": 4,
 "nbformat_minor": 2
}
